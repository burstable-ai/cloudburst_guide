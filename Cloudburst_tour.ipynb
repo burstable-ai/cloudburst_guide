{
 "cells": [
  {
   "cell_type": "markdown",
   "id": "0132af5f-80c1-4ae2-bdd3-a13e4f047896",
   "metadata": {},
   "source": [
    "# A Quick Tour of Cloudburst\n",
    "\n",
    "Cloudburst currently implements the JupyterLab interface as its hosted development environment.  \n",
    "\n",
    "For those unfamiliar with JupyterLab (and its functionality beyond just Jupyter notebooks), this is a quick tour of the interface and its capabilities."
   ]
  },
  {
   "cell_type": "markdown",
   "id": "1b9661e7-8dd5-419b-826f-5f03ea72c503",
   "metadata": {},
   "source": [
    "## Core functionality and navigation\n",
    "\n",
    "The JupyterLab interface provides:\n",
    "\n",
    "* Command line terminals\n",
    "* Jupyter Notebooks\n",
    "* Interactive iPython consoles\n",
    "* A code and text editor \n",
    "* A point-and-click file navigator\n",
    "\n",
    "### File Navigator \n",
    "\n",
    "The file navigator is located in the left sidebar.  It operates like a familiar file hierarchy navigator.  The navigation column toggles between hidden and revealed with Command-B (Mac) or Ctl-B (Linux/Windows).  \n",
    "\n",
    "* Double-clicking a folder will move you into that folder.  \n",
    "* Double-clicking a Notebook will open it in a new tab inside JupyterLab.\n",
    "* Double-clicking a text file, Python file, or Markdown file will open it in the editor in a new tab.\n",
    "* Double-clicking other file types, e.g., CSV files, JPEG/PNG files, or audio/video files will open them in a new tab.\n",
    "\n",
    "### Launching terminals & iPython consoles\n",
    "\n",
    "You can launch a terminal or iPython console from the Launcher, which is the blue button with a \"+\" in the upper left: \n",
    "\n",
    "<img src=\"launcher.png\" alt=\"launcher\" width=\"200\"/>\n",
    "\n",
    "You can also use the Launcher to open a new Notebook, or to open a new Text file, Python file, or Markdown file in the text editor. \n",
    "\n",
    "### Split-screen views\n",
    "\n",
    "By default, files, Notebooks, terminals, and iPython consoles open in a new tab inside JupyterLab.  \n",
    "\n",
    "Sometimes it is useful to have a split screen, with the code or Notebook you are using open, and a command line accessible at the bottom of the window, such as:\n",
    "\n",
    "<img src=\"split_screen.png\" alt=\"split_screen\" width=\"600\"/>\n",
    "\n",
    "To get a top-bottom or side-by-side split screen, simply open a couple of files, Notebooks, or terminals, then drag the tab of one into the bottom or side of the screen."
   ]
  },
  {
   "cell_type": "code",
   "execution_count": null,
   "id": "85c8868a-da6b-4d12-8b9c-c33423a8e102",
   "metadata": {},
   "outputs": [],
   "source": []
  }
 ],
 "metadata": {
  "kernelspec": {
   "display_name": "Python 3 (ipykernel)",
   "language": "python",
   "name": "python3"
  },
  "language_info": {
   "codemirror_mode": {
    "name": "ipython",
    "version": 3
   },
   "file_extension": ".py",
   "mimetype": "text/x-python",
   "name": "python",
   "nbconvert_exporter": "python",
   "pygments_lexer": "ipython3",
   "version": "3.8.1"
  }
 },
 "nbformat": 4,
 "nbformat_minor": 5
}
